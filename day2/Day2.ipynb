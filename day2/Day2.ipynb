{
 "cells": [
  {
   "cell_type": "code",
   "execution_count": 1,
   "id": "38097195-8f04-4958-824a-814606fe85fc",
   "metadata": {},
   "outputs": [
    {
     "name": "stdout",
     "output_type": "stream",
     "text": [
      "Laptop -> 40000 \n",
      "\n",
      "Tv -> 35000 \n",
      "\n",
      "iPhone13 -> 70000 \n",
      "\n",
      "Laptop total price for quantity 4 -> 160000 \n",
      "\n",
      "Tv total price for quantity 3 -> 105000 \n",
      "\n",
      "iPhone13 total price for quantity 7 -> 490000 \n",
      "\n",
      "total_sales 755000\n"
     ]
    }
   ],
   "source": [
    "products=[\"Laptop\", \"Tv\",\"iPhone13\"]\n",
    "price={\"Laptop\":40000,\"Tv\":35000,\"iPhone13\":70000}\n",
    "\n",
    "for p in products:\n",
    "    print(p, \"->\", price[p],\"\\n\")\n",
    "\n",
    "quantities={\"Laptop\":4,\"Tv\":3,\"iPhone13\":7}\n",
    "\n",
    "for p in products:\n",
    "    total_price = price[p]*quantities[p]\n",
    "    print(p,f\"total price for quantity {quantities[p]} ->\",total_price,\"\\n\")\n",
    "\n",
    "\n",
    "total_sales=0\n",
    "for p in products:\n",
    "    total_sales += price[p]*quantities[p]\n",
    "    \n",
    "print(\"total_sales\",total_sales)"
   ]
  },
  {
   "cell_type": "code",
   "execution_count": null,
   "id": "c3d1c0be-19c9-42af-9c9b-8f7f3cd03de7",
   "metadata": {},
   "outputs": [],
   "source": []
  }
 ],
 "metadata": {
  "kernelspec": {
   "display_name": "Python 3 (ipykernel)",
   "language": "python",
   "name": "python3"
  },
  "language_info": {
   "codemirror_mode": {
    "name": "ipython",
    "version": 3
   },
   "file_extension": ".py",
   "mimetype": "text/x-python",
   "name": "python",
   "nbconvert_exporter": "python",
   "pygments_lexer": "ipython3",
   "version": "3.13.5"
  }
 },
 "nbformat": 4,
 "nbformat_minor": 5
}
