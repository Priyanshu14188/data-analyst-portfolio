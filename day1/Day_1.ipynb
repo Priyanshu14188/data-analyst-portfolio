{
 "cells": [
  {
   "cell_type": "code",
   "execution_count": 1,
   "id": "3034618c-0873-401c-9293-04ea937dd724",
   "metadata": {},
   "outputs": [
    {
     "name": "stdout",
     "output_type": "stream",
     "text": [
      "Hello, my name is Priyanshu Sharma, and I am a Data Analyst.\n"
     ]
    }
   ],
   "source": [
    "#day one program for my data analyst roadmap\n",
    "print(\"Hello, my name is Priyanshu Sharma, and I am a Data Analyst.\")"
   ]
  }
 ],
 "metadata": {
  "kernelspec": {
   "display_name": "Python 3 (ipykernel)",
   "language": "python",
   "name": "python3"
  },
  "language_info": {
   "codemirror_mode": {
    "name": "ipython",
    "version": 3
   },
   "file_extension": ".py",
   "mimetype": "text/x-python",
   "name": "python",
   "nbconvert_exporter": "python",
   "pygments_lexer": "ipython3",
   "version": "3.13.5"
  }
 },
 "nbformat": 4,
 "nbformat_minor": 5
}
