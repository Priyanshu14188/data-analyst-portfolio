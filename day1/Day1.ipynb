{
 "cells": [
  {
   "cell_type": "code",
   "execution_count": 1,
   "id": "05d4426d-4b13-4a48-8151-1f616be1f1a2",
   "metadata": {},
   "outputs": [
    {
     "name": "stdin",
     "output_type": "stream",
     "text": [
      "Enter first number:\n",
      " 9\n",
      "Enter second number:\n",
      " 3\n"
     ]
    },
    {
     "name": "stdout",
     "output_type": "stream",
     "text": [
      "Addition of 9.0 and 3.0 is 12.0\n",
      "Substraction of 9.0 and 3.0 is 6.0\n",
      "Multiplication of 9.0 and 3.0 is 27.0\n",
      "Division of 9.0 and 3.0 is 3.0\n"
     ]
    }
   ],
   "source": [
    "#First i am performing basic math operation\n",
    "a=float(input(\"Enter first number:\\n\"))\n",
    "b=float(input(\"Enter second number:\\n\"))\n",
    "\n",
    "#Addition\n",
    "print(f\"Addition of {a} and {b} is {a+b}\")\n",
    "#Substraction\n",
    "print(f\"Substraction of {a} and {b} is {a-b}\")\n",
    "#Multiplication\n",
    "print(f\"Multiplication of {a} and {b} is {a*b}\")\n",
    "#Division\n",
    "print(f\"Division of {a} and {b} is {a/b}\")\n",
    "\n"
   ]
  },
  {
   "cell_type": "code",
   "execution_count": 2,
   "id": "0da3b45e-efde-42ad-923b-dcc7005d608b",
   "metadata": {},
   "outputs": [
    {
     "name": "stdout",
     "output_type": "stream",
     "text": [
      "<class 'int'> <class 'str'> <class 'float'> <class 'tuple'>\n"
     ]
    }
   ],
   "source": [
    "#Checking the type of below data\n",
    "a=2\n",
    "b=\"Priyanshu\"\n",
    "c=4.6\n",
    "d=(4,5)\n",
    "print(type(a),type(b),type(c),type(d))"
   ]
  },
  {
   "cell_type": "code",
   "execution_count": null,
   "id": "d4468db6-4308-4a21-b062-ef89837c6f68",
   "metadata": {},
   "outputs": [],
   "source": []
  }
 ],
 "metadata": {
  "kernelspec": {
   "display_name": "Python 3 (ipykernel)",
   "language": "python",
   "name": "python3"
  },
  "language_info": {
   "codemirror_mode": {
    "name": "ipython",
    "version": 3
   },
   "file_extension": ".py",
   "mimetype": "text/x-python",
   "name": "python",
   "nbconvert_exporter": "python",
   "pygments_lexer": "ipython3",
   "version": "3.13.5"
  }
 },
 "nbformat": 4,
 "nbformat_minor": 5
}
